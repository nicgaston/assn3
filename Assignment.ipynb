{
 "cells": [
  {
   "cell_type": "markdown",
   "metadata": {},
   "source": [
    "# PHYSICS 334 Assignment 3 2019"
   ]
  },
  {
   "cell_type": "markdown",
   "metadata": {},
   "source": [
    "This assignment should be handed in via upload of your python notebook, containing numbered answers to the questions handed out on the Assignment sheet, to Canvas before 12 noon on Wednesday 25 April."
   ]
  },
  {
   "cell_type": "markdown",
   "metadata": {},
   "source": [
    "In this assignment, we are going to use several python scripts that are available from the authors of the well known book, \"Computer Simulation of Liquids\" by M. P. Allen and D. Tildesley, originally published by Oxford University Press in 1987. They demonstrate many key algorithms that are foundational to simulation of periodic systems, and have been rereleased in python form for the 2nd edition of the book, which came out in August 2017."
   ]
  },
  {
   "cell_type": "markdown",
   "metadata": {},
   "source": [
    "The Python code from Allen & Tildesley is great, but it has a few quirks. One is that, since it has been adapted from Fortran, it is a bit funny about how you give it inputs. We will need to write an input file for each piece of code to read in.\n",
    "\n",
    "As you go through the cells in the notebook below, you will need to run the code (shift-return will do this). You should add markdown text (like this text!) in a cell above the code to explain any changes you have made; you should add markdown text in a cell following the code to discuss the results and answer the assignment questions."
   ]
  },
  {
   "cell_type": "markdown",
   "metadata": {},
   "source": [
    "# Question 1"
   ]
  },
  {
   "cell_type": "markdown",
   "metadata": {},
   "source": [
    "To create a physical system of atoms for your simulation, you will first work with the code 'initialize.py'.\n",
    "\n",
    "To begin with, we will simulate 'Lennard-Jones atoms', which are defined such that the energy scale of the potential describing the interaction between the atoms is normalised to 1. Later, by changing the parameters of the potential, we will be able to change our simulation to mimic a given physical system.\n",
    "\n",
    "First we write the input file that *initialize.py* will use. We want it to give us an initial configuration with both positions and velocities. (It sets up a configuration for 256 atoms by default.) "
   ]
  },
  {
   "cell_type": "code",
   "execution_count": 1,
   "metadata": {},
   "outputs": [],
   "source": [
    "with open(\"input.inp\",'w') as input_file:\n",
    "    input_file.write('{\"velocities\":true}')"
   ]
  },
  {
   "cell_type": "markdown",
   "metadata": {},
   "source": [
    "You want to run initialize.py with input \"velocities\":true, to create velocity information for each atom which reflects the temperature.  To do this we put this information in an input file 'input.inp' which the code reads. This runs the code with no 'new' input, just using the default information.  \n",
    "\n",
    "Run *initialize.py*. It will output a file called cnf.inp\n",
    "\n",
    "If you look at cnf.inp in your library you will see it contains '256' and '6.988...' on the first two lines, for the number of atoms and the box length. Then there are 256 lines containing six numbers - these are the x,y,z coordinates of each atom, followed by the x,y,z components of the velocities of each atom.  These are randomly generated to give a distribution that equates to a given temperature (by default, T = 1.0 in Lennard Jones units).\n",
    "\n",
    "So your configuration file will contain the positions and velocities of 256 atoms in a FCC lattice, with reduced density = 0.75 and reduced temperature T = 1.0, and we can use this for a MC simulation.\n"
   ]
  },
  {
   "cell_type": "code",
   "execution_count": 2,
   "metadata": {},
   "outputs": [
    {
     "name": "stdout",
     "output_type": "stream",
     "text": [
      "initialize\n",
      "Sets up initial configuration file for various simulations\n",
      "Options for molecules are \"atom\", \"linear\", \"nonlinear\", \"chain\"\n",
      "Particle mass m=1 throughout\n",
      "Periodic boundaries\n",
      "Atoms\n",
      "nc                                                    4\n",
      "n                                                   256\n",
      "Velocities option selected\n",
      "Periodic boundary conditions\n",
      "Density                                        0.750000\n",
      "Box length                                     6.988644\n",
      "Close-packed fcc lattice positions\n",
      "Temperature                                    1.000000\n",
      "Velocities at temperature, inertia             1.000000       1.000000\n",
      "Writing configuration to filename cnf.inp\n"
     ]
    }
   ],
   "source": [
    "%run initialize"
   ]
  },
  {
   "cell_type": "markdown",
   "metadata": {},
   "source": [
    "Next we need to write an input file with some parameters for *mc_nvt_lj.py*. We might start by specifying a simulation that uses 10 blocks, each of 100 steps, for an unscaled temperature (temperature = 1 unit of T)."
   ]
  },
  {
   "cell_type": "code",
   "execution_count": 1,
   "metadata": {},
   "outputs": [],
   "source": [
    "with open(\"run_input.inp\",'w') as run_file:\n",
    "    #run_file.write('{}')\n",
    "    run_file.write('{ \"nblock\":1, \"nstep\":5, \"temperature\":1.0 }')"
   ]
  },
  {
   "cell_type": "markdown",
   "metadata": {},
   "source": [
    "This version of *mc_nvt_lj.py* reads in the input file produced above. Time to run it..."
   ]
  },
  {
   "cell_type": "code",
   "execution_count": 4,
   "metadata": {},
   "outputs": [
    {
     "name": "stdout",
     "output_type": "stream",
     "text": [
      "mc_nvt_lj\n",
      "Monte Carlo, constant-NVT ensemble\n",
      "Simulation uses cut (but not shifted) potential\n",
      "Lennard-Jones potential\n",
      "Cut (but not shifted)\n",
      "Diameter, sigma = 1\n",
      "Well depth, epsilon = 1\n",
      "Fast NumPy potential routine\n",
      "Number of blocks                                     10  \n",
      "Number of steps per block                           100  \n",
      "Specified temperature                          1.000000\n",
      "Potential cutoff distance                      2.500000\n",
      "Maximum displacement                           0.150000\n",
      "Number of particles                                 256  \n",
      "Box length                                     6.988644\n",
      "Density                                        0.750000\n",
      "Initial values\n",
      "E/N cut                                       -4.358403\n",
      "P cut                                         -5.459551\n",
      "E/N full                                      -4.759978\n",
      "P full                                        -5.760732\n",
      "T config                                       0.000000\n",
      "\n",
      "Run begins\n",
      "Date:                                        2019/04/26\n",
      "Time:                                          01:19:08\n",
      "CPU time:                                      1.550550\n",
      "\n",
      "===============================================================================================================================\n",
      "          Block            Move             E/N               P             E/N               P               T            Cv/N\n",
      "                          ratio             cut             cut            full            full          config            full\n",
      "-------------------------------------------------------------------------------------------------------------------------------\n",
      "              1        0.424414       -3.482753       -0.301083       -3.884328       -0.602264        0.997214        6.750753\n",
      "              2        0.384258       -3.357018        0.644378       -3.758593        0.343196        1.027795        2.290336\n",
      "              3        0.371016       -3.320683        0.867715       -3.722257        0.566534        0.993826        2.631534\n",
      "              4        0.364961       -3.298634        0.964237       -3.700209        0.663056        1.026421        2.114809\n",
      "              5        0.371445       -3.320677        0.774824       -3.722252        0.473643        0.975384        2.099825\n",
      "              6        0.381250       -3.342275        0.550114       -3.743850        0.248933        0.984070        1.988187\n",
      "              7        0.379375       -3.322002        0.658938       -3.723577        0.357757        1.032284        2.608361\n",
      "              8        0.390977       -3.372853        0.428458       -3.774427        0.127277        0.985947        2.442529\n",
      "              9        0.377305       -3.347108        0.511708       -3.748682        0.210526        0.966444        2.270805\n",
      "             10        0.378203       -3.349000        0.586432       -3.750575        0.285251        0.952677        2.040793\n",
      "-------------------------------------------------------------------------------------------------------------------------------\n",
      "   Run averages        0.382320       -3.351300        0.568572       -3.752875        0.267391        0.994206        2.723793\n",
      "     Run errors        0.004950        0.015293        0.104034        0.015293        0.104034        0.008152        0.429863\n",
      "===============================================================================================================================\n",
      "\n",
      "Run ends\n",
      "Date:                                        2019/04/26\n",
      "Time:                                          01:20:33\n",
      "CPU time:                                     85.713892\n",
      "\n",
      "Final values\n",
      "E/N cut                                       -3.375204\n",
      "P cut                                          0.498383\n",
      "E/N full                                      -3.776778\n",
      "P full                                         0.197202\n",
      "T config                                       0.970664\n",
      "Program ends\n"
     ]
    }
   ],
   "source": [
    "%run mc_nvt_lj"
   ]
  },
  {
   "cell_type": "markdown",
   "metadata": {},
   "source": [
    "Looking at the output, we see several things. Each block of the simulation reports thermodynamic quantities, such as E/N, and these are averaged at the end over all blocks.  Both E/N and P are calculated first with a truncated LJ potential (cut) and an extended version (full).  You should work with the 'full' results.\n",
    "\n",
    "Now I would like you to test how the calculated energies change depending on the number of steps, and number of blocks used.  \n",
    "\n",
    "Recalculate, as above, increasing the number of blocks and number of steps systematically until you can demonstrate that the energy per atom has converged to two decimal places, in reduced units.  To do this, please plot E/N against the number of steps multiplied by the number of blocks (the total number of steps).  Does it make a difference whether you have more or fewer blocks, for a given total number of steps? Discuss your results."
   ]
  },
  {
   "cell_type": "markdown",
   "metadata": {},
   "source": [
    "A piece of python code that you can use to plot xy data is below - modify this to demonstrate the convergence of the energy that you find.\n",
    "\n",
    "\n",
    "\n",
    "\n",
    "."
   ]
  },
  {
   "cell_type": "markdown",
   "metadata": {},
   "source": [
    "The following code writes the input file for mc_nvt_lj.py for values in a range as described at the start of the for loop. The first range means that the number of blocks is varying between 2 and 30 in steps of 2. For each number of blocks, mc_nvt_lj.py has been run. The results are printed below the input. Temperature is always at 1.0 in Leonnard Jones units and the number of steps in each block remains constant at 100. \n",
    "The second input below is used to read the results. This means that the results we are interested in can be used in plots later in the assignment. "
   ]
  },
  
   
  {
   "cell_type": "markdown",
   "metadata": {},
   "source": [
    "The resulting values from the previous 2 inputs, can be plotted as shown by the following output. The values were read and copied directly from the previous outputs and saved as values in the y direction. These values were then plotted comparing when the number of blocks varies, when the number of steps varies and both sets combined."
   ]
  },
  
  {
   "cell_type": "markdown",
   "metadata": {},
   "source": [
    "## Question 2"
   ]
  },
  {
   "cell_type": "markdown",
   "metadata": {},
   "source": [
    "Plot E/N vs T for ten temperatures from 0.01 to 1.0 - and discuss!"
   ]
  },
 
 
