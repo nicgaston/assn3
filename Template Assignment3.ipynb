{
 "cells": [
  {
   "cell_type": "markdown",
   "metadata": {},
   "source": [
    "# PHYSICS 334 Assignment 3 2018"
   ]
  },
  {
   "cell_type": "markdown",
   "metadata": {},
   "source": [
    "This assignment should be handed in via upload of your python notebook, containing numbered answers to tne questions handed out on the Assignment sheet, to Canvas before 12 noon on Wednesday 25 April."
   ]
  },
  {
   "cell_type": "markdown",
   "metadata": {},
   "source": [
    "In this assignment, we are going to use several python scripts that are available from the authors of the well known book, \"Computer Simulation of Liquids\" by M. P. Allen and D. Tildesley, originally published by Oxford University Press in 1987. They demonstrate many key algorithms that are foundational to simulation of periodic systems, and have been rereleased in python form for the 2nd edition of the book, which came out in August 2017."
   ]
  },
  {
   "cell_type": "markdown",
   "metadata": {},
   "source": [
    "The Python code from Allen & Tildesley is great, but it has a few quirks. One is that, since it has been adapted from Fortran, it is a bit funny about how you give it inputs. We will need to write an input file for each piece of code to read in.\n",
    "\n",
    "As you go through the cells in the notebook below, you will need to run the code (shift-return will do this). You should add markdown text (like this text!) in a cell above the code to explain any changes you have made; you should add markdown text in a cell following the code to discuss the results and answer the assignment questions."
   ]
  },
  {
   "cell_type": "markdown",
   "metadata": {},
   "source": [
    "# Question 1"
   ]
  },
  {
   "cell_type": "markdown",
   "metadata": {},
   "source": [
    "To create a physical system of atoms for your simulation, you will first work with the code 'initialize.py'.\n",
    "\n",
    "To begin with, we will simulate 'Lennard-Jones atoms', which are defined such that the energy scale of the potential describing the interaction between the atoms is normalised to 1. Later, by changing the parameters of the potential, we will be able to change our simulation to mimic a given physical system.\n",
    "\n",
    "First we write the input file that *initialize.py* will use. We want it to give us an initial configuration with both positions and velocities. (It sets up a configuration for 256 atoms by default.) "
   ]
  },
  {
   "cell_type": "code",
   "execution_count": 68,
   "metadata": {},
   "outputs": [],
   "source": [
    "with open(\"input.inp\",'w') as input_file:\n",
    "    input_file.write('{\"velocities\":true}')"
   ]
  },
  {
   "cell_type": "markdown",
   "metadata": {},
   "source": [
    "You want to run initialize.py with input \"velocities\":true, to create velocity information for each atom which reflects the temperature.  To do this we put this information in an input file 'input.inp' which the code reads. This runs the code with no 'new' input, just using the default information.  \n",
    "\n",
    "Run *initialize.py*. It will output a file called cnf.inp\n",
    "\n",
    "If you look at cnf.inp in your library you will see it contains '256' and '6.988...' on the first two lines, for the number of atoms and the box length. Then there are 256 lines containing six numbers - these are the x,y,z coordinates of each atom, followed by the x,y,z components of the velocities of each atom.  These are randomly generated to give a distribution that equates to a given temperature (by default, T = 1.0 in Lennard Jones units).\n",
    "\n",
    "So your configuration file will contain the positions and velocities of 256 atoms in a FCC lattice, with reduced density = 0.75 and reduced temperature T = 1.0, and we can use this for a MC simulation.\n"
   ]
  },
  {
   "cell_type": "code",
   "execution_count": 12,
   "metadata": {},
   "outputs": [
    {
     "name": "stdout",
     "output_type": "stream",
     "text": [
      "initialize\n",
      "Sets up initial configuration file for various simulations\n",
      "Options for molecules are \"atom\", \"linear\", \"nonlinear\", \"chain\"\n",
      "Particle mass m=1 throughout\n",
      "Periodic boundaries\n",
      "Atoms\n",
      "nc                                                    4\n",
      "n                                                   256\n",
      "Velocities option selected\n",
      "Periodic boundary conditions\n",
      "Density                                        0.750000\n",
      "Box length                                     6.988644\n",
      "Close-packed fcc lattice positions\n",
      "Temperature                                    1.000000\n",
      "Velocities at temperature, inertia             1.000000       1.000000\n",
      "Writing configuration to filename cnf.inp\n"
     ]
    }
   ],
   "source": [
    "%run initialize"
   ]
  },
  {
   "cell_type": "markdown",
   "metadata": {},
   "source": [
    "Next we need to write an input file with some parameters for *mc_nvt_lj.py*. We might start by specifying a simulation that uses 10 blocks, each of 100 steps, for an unscaled temperature (temperature = 1 unit of T)."
   ]
  },
  {
   "cell_type": "code",
   "execution_count": 78,
   "metadata": {},
   "outputs": [],
   "source": [
    "with open(\"run_input.inp\",'w') as run_file:\n",
    "    #run_file.write('{}')\n",
    "    run_file.write('{ \"nblock\":10, \"nstep\":100, \"temperature\":0.1 }')"
   ]
  },
  {
   "cell_type": "markdown",
   "metadata": {},
   "source": [
    "This version of *mc_nvt_lj.py* reads in the input file produced above. Time to run it..."
   ]
  },
  {
   "cell_type": "code",
   "execution_count": 70,
   "metadata": {},
   "outputs": [
    {
     "name": "stdout",
     "output_type": "stream",
     "text": [
      "mc_nvt_lj\n",
      "Monte Carlo, constant-NVT ensemble\n",
      "Simulation uses cut (but not shifted) potential\n",
      "Lennard-Jones potential\n",
      "Cut (but not shifted)\n",
      "Diameter, sigma = 1\n",
      "Well depth, epsilon = 1\n",
      "Fast NumPy potential routine\n",
      "Number of blocks                                     10  \n",
      "Number of steps per block                           100  \n",
      "Specified temperature                          0.050000\n",
      "Potential cutoff distance                      2.500000\n",
      "Maximum displacement                           0.150000\n",
      "Number of particles                                 864  \n",
      "Box length                                    10.482966\n",
      "Density                                        0.750000\n",
      "Initial values\n",
      "E/N cut                                       -5.783403\n",
      "P cut                                         -6.172051\n",
      "E/N full                                      -6.184978\n",
      "P full                                        -6.473232\n",
      "T config                                       0.000000\n",
      "\n",
      "Run begins\n",
      "Date:                                        2018/04/29\n",
      "Time:                                          22:00:45\n",
      "CPU time:                                  12912.860291\n",
      "\n",
      "===============================================================================================================================\n",
      "          Block            Move             E/N               P             E/N               P               T            Cv/N\n",
      "                          ratio             cut             cut            full            full          config            full\n",
      "-------------------------------------------------------------------------------------------------------------------------------\n"
     ]
    },
    {
     "ename": "KeyboardInterrupt",
     "evalue": "",
     "output_type": "error",
     "traceback": [
      "\u001b[0;31m---------------------------------------------------------------------------\u001b[0m",
      "\u001b[0;31mKeyboardInterrupt\u001b[0m                         Traceback (most recent call last)",
      "\u001b[0;32m~/library/mc_nvt_lj.py\u001b[0m in \u001b[0;36m<module>\u001b[0;34m()\u001b[0m\n\u001b[1;32m    200\u001b[0m         \u001b[0mm_ratio\u001b[0m \u001b[0;34m=\u001b[0m \u001b[0mmoves\u001b[0m \u001b[0;34m/\u001b[0m \u001b[0mn\u001b[0m\u001b[0;34m\u001b[0m\u001b[0m\n\u001b[1;32m    201\u001b[0m \u001b[0;34m\u001b[0m\u001b[0m\n\u001b[0;32m--> 202\u001b[0;31m         \u001b[0mblk_add\u001b[0m \u001b[0;34m(\u001b[0m \u001b[0mcalc_variables\u001b[0m\u001b[0;34m(\u001b[0m\u001b[0;34m)\u001b[0m \u001b[0;34m)\u001b[0m\u001b[0;34m\u001b[0m\u001b[0m\n\u001b[0m\u001b[1;32m    203\u001b[0m \u001b[0;34m\u001b[0m\u001b[0m\n\u001b[1;32m    204\u001b[0m     \u001b[0mblk_end\u001b[0m\u001b[0;34m(\u001b[0m\u001b[0mblk\u001b[0m\u001b[0;34m)\u001b[0m                                          \u001b[0;31m# Output block averages\u001b[0m\u001b[0;34m\u001b[0m\u001b[0m\n",
      "\u001b[0;32m~/library/mc_nvt_lj.py\u001b[0m in \u001b[0;36mcalc_variables\u001b[0;34m()\u001b[0m\n\u001b[1;32m     48\u001b[0m     \u001b[0mvol\u001b[0m \u001b[0;34m=\u001b[0m \u001b[0mbox\u001b[0m\u001b[0;34m**\u001b[0m\u001b[0;36m3\u001b[0m                           \u001b[0;31m# Volume\u001b[0m\u001b[0;34m\u001b[0m\u001b[0m\n\u001b[1;32m     49\u001b[0m     \u001b[0mrho\u001b[0m \u001b[0;34m=\u001b[0m \u001b[0mn\u001b[0m \u001b[0;34m/\u001b[0m \u001b[0mvol\u001b[0m                          \u001b[0;31m# Density\u001b[0m\u001b[0;34m\u001b[0m\u001b[0m\n\u001b[0;32m---> 50\u001b[0;31m     \u001b[0mfsq\u001b[0m \u001b[0;34m=\u001b[0m \u001b[0mforce_sq\u001b[0m \u001b[0;34m(\u001b[0m \u001b[0mbox\u001b[0m\u001b[0;34m,\u001b[0m \u001b[0mr_cut\u001b[0m\u001b[0;34m,\u001b[0m \u001b[0mr\u001b[0m \u001b[0;34m)\u001b[0m \u001b[0;31m# Total squared force\u001b[0m\u001b[0;34m\u001b[0m\u001b[0m\n\u001b[0m\u001b[1;32m     51\u001b[0m \u001b[0;34m\u001b[0m\u001b[0m\n\u001b[1;32m     52\u001b[0m     \u001b[0;31m# Variables of interest, of class VariableType, containing three attributes:\u001b[0m\u001b[0;34m\u001b[0m\u001b[0;34m\u001b[0m\u001b[0m\n",
      "\u001b[0;32m~/library/mc_lj_module.py\u001b[0m in \u001b[0;36mforce_sq\u001b[0;34m(box, r_cut, r)\u001b[0m\n\u001b[1;32m    186\u001b[0m             \u001b[0mrij\u001b[0m       \u001b[0;34m=\u001b[0m \u001b[0mrij\u001b[0m \u001b[0;34m*\u001b[0m \u001b[0mbox\u001b[0m             \u001b[0;31m# Now in sigma=1 units\u001b[0m\u001b[0;34m\u001b[0m\u001b[0m\n\u001b[1;32m    187\u001b[0m             \u001b[0msr2\u001b[0m       \u001b[0;34m=\u001b[0m \u001b[0mnp\u001b[0m\u001b[0;34m.\u001b[0m\u001b[0mwhere\u001b[0m \u001b[0;34m(\u001b[0m \u001b[0min_range\u001b[0m\u001b[0;34m,\u001b[0m \u001b[0;36m1.0\u001b[0m \u001b[0;34m/\u001b[0m \u001b[0mrij_sq\u001b[0m\u001b[0;34m,\u001b[0m \u001b[0;36m0.0\u001b[0m \u001b[0;34m)\u001b[0m \u001b[0;31m# (sigma/rij)**2, only if in range\u001b[0m\u001b[0;34m\u001b[0m\u001b[0m\n\u001b[0;32m--> 188\u001b[0;31m             \u001b[0msr6\u001b[0m       \u001b[0;34m=\u001b[0m \u001b[0msr2\u001b[0m \u001b[0;34m**\u001b[0m \u001b[0;36m3\u001b[0m\u001b[0;34m\u001b[0m\u001b[0m\n\u001b[0m\u001b[1;32m    189\u001b[0m             \u001b[0msr12\u001b[0m      \u001b[0;34m=\u001b[0m \u001b[0msr6\u001b[0m \u001b[0;34m**\u001b[0m \u001b[0;36m2\u001b[0m\u001b[0;34m\u001b[0m\u001b[0m\n\u001b[1;32m    190\u001b[0m             \u001b[0mfij\u001b[0m       \u001b[0;34m=\u001b[0m \u001b[0;34m(\u001b[0m\u001b[0;36m2\u001b[0m\u001b[0;34m*\u001b[0m\u001b[0msr12\u001b[0m \u001b[0;34m-\u001b[0m \u001b[0msr6\u001b[0m\u001b[0;34m)\u001b[0m\u001b[0;34m*\u001b[0m\u001b[0msr2\u001b[0m\u001b[0;34m\u001b[0m\u001b[0m\n",
      "\u001b[0;31mKeyboardInterrupt\u001b[0m: "
     ]
    }
   ],
   "source": [
    "%run mc_nvt_lj"
   ]
  },
  {
   "cell_type": "markdown",
   "metadata": {},
   "source": [
    "Looking at the output, we see several things. Each block of the simulation reports thermodynamic quantities, such as E/N, and these are averaged at the end over all blocks.  Both E/N and P are calculated first with a truncated LJ potential (cut) and an extended version (full).  You should work with the 'full' results.\n",
    "\n",
    "Now I would like you to test how the calculated energies change depending on the number of steps, and number of blocks used.  \n",
    "\n",
    "Recalculate, as above, increasing the number of blocks and number of steps systematically until you can demonstrate that the energy per atom has converged to two decimal places, in reduced units.  To do this, please plot E/N against the number of steps multiplied by the number of blocks (the total number of steps).  Does it make a difference whether you have more or fewer blocks, for a given total number of steps? Discuss your results."
   ]
  },
  {
   "cell_type": "markdown",
   "metadata": {},
   "source": [
    "A piece of python code that you can use to plot xy data is below - modify this to demonstrate the convergence of the energy that you find."
   ]
  },
  {
   "cell_type": "code",
   "execution_count": 100,
   "metadata": {
    "scrolled": true
   },
   "outputs": [
    {
     "data": {
      "image/png": "[encoded data removed]",
      "text/plain": [
       "<matplotlib.figure.Figure at 0x7f7c62121358>"
      ]
     },
     "metadata": {},
     "output_type": "display_data"
    }
   ],
   "source": [
    "import matplotlib.pyplot as plt\n",
    "\n",
    "\"\"\"\n",
    "X100 = [1000, 2000, 4000, 5000]\n",
    "X200 = [2000, 4000, 8000, 1000]\n",
    "X400 = [4000, 8000, 16000, 20000]\n",
    "\n",
    "Y100 = [-3.808581, -3.777373, -3.697588, -3.704590]\n",
    "Y200 = [-3.742359, -3.769115, -3.721288, -3.704590]\n",
    "Y400 = [-3.740558, -3.680379, -3.697889, -3.726314]\n",
    "\n",
    "plt.scatter(X100, Y100, color=\"blue\")\n",
    "plt.scatter(X200, Y200, color=\"red\")\n",
    "plt.scatter(X400, Y400, color=\"black\")\n",
    "plt.show()\n",
    "\"\"\"\n",
    "\n",
    "\"\"\"\n",
    "#E/N vs T\n",
    "X = [0.04, 0.05, 0.06, 0.07, 0.08, 0.09, 0.095, 0.1, 0.105, 0.15, 0.2, 0.3, 0.4, 0.5, 1.0]\n",
    "Y = [-6.850673, -6.651545, -6.534933, -6.776956, -6.782561, -6.651545, -6.523073, -4.954443, -6.480627, -6.566037, -6.216902, -6.018334, -5.458770, -4.954443, -3.847297]\n",
    "\n",
    "plt.scatter(X,Y)\n",
    "plt.show()\n",
    "\"\"\"\n",
    "\n",
    "\"\"\"\n",
    "#cv/N vs T\n",
    "X = [0.04, 0.05, 0.06, 0.07, 0.08, 0.09, 0.095, 0.1, 0.105, 0.15, 0.2, 0.3, 0.4, 0.5, 1.0]\n",
    "Y = [118.37814839999996, 24.104603, 20.39838, 43.94532679999999, 43.8252774, 24.104603, 14.8018936, 2.5710831, 10.6778738, 10.894380199999999, 4.8377365, 3.5658492, 2.9207158, 2.5710831, 2.5159109]\n",
    "\n",
    "plt.scatter(X,Y)\n",
    "plt.show()\n",
    "\"\"\"\n",
    "\n",
    "X = [0.04, 0.05, 0.06, 0.07, 0.075, 0.08, 0.09]\n",
    "Y = [97.790956, 128.671565, 66.722163, 50.148878, 44.757918, 45.523598, 35.130807]\n",
    "plt.scatter(X,Y)\n",
    "plt.show()"
   ]
  },
  {
   "cell_type": "markdown",
   "metadata": {},
   "source": [
    "## Question 2"
   ]
  },
  {
   "cell_type": "markdown",
   "metadata": {},
   "source": [
    "Plot E/N vs T for ten temperatures from 0.01 to 1.0 - and discuss!"
   ]
  },
  {
   "cell_type": "markdown",
   "metadata": {},
   "source": [
    "## Question 3"
   ]
  },
  {
   "cell_type": "markdown",
   "metadata": {},
   "source": [
    "Modify the code below, as needed."
   ]
  },
  {
   "cell_type": "code",
   "execution_count": 79,
   "metadata": {},
   "outputs": [],
   "source": [
    "with open(\"input.inp\",'w') as input_file:\n",
    "    input_file.write('{\"velocities\":true,\"nc\":6}')"
   ]
  },
  {
   "cell_type": "code",
   "execution_count": 80,
   "metadata": {},
   "outputs": [
    {
     "name": "stdout",
     "output_type": "stream",
     "text": [
      "initialize\n",
      "Sets up initial configuration file for various simulations\n",
      "Options for molecules are \"atom\", \"linear\", \"nonlinear\", \"chain\"\n",
      "Particle mass m=1 throughout\n",
      "Periodic boundaries\n",
      "Atoms\n",
      "nc                                                    6\n",
      "n                                                   864\n",
      "Velocities option selected\n",
      "Periodic boundary conditions\n",
      "Density                                        0.750000\n",
      "Box length                                    10.482966\n",
      "Close-packed fcc lattice positions\n",
      "Temperature                                    1.000000\n",
      "Velocities at temperature, inertia             1.000000       1.000000\n",
      "Writing configuration to filename cnf.inp\n"
     ]
    }
   ],
   "source": [
    "%run initialize"
   ]
  },
  {
   "cell_type": "code",
   "execution_count": null,
   "metadata": {},
   "outputs": [
    {
     "name": "stdout",
     "output_type": "stream",
     "text": [
      "mc_nvt_lj\n",
      "Monte Carlo, constant-NVT ensemble\n",
      "Simulation uses cut (but not shifted) potential\n",
      "Lennard-Jones potential\n",
      "Cut (but not shifted)\n",
      "Diameter, sigma = 1\n",
      "Well depth, epsilon = 1\n",
      "Fast NumPy potential routine\n",
      "Number of blocks                                     10  \n",
      "Number of steps per block                           100  \n",
      "Specified temperature                          0.100000\n",
      "Potential cutoff distance                      2.500000\n",
      "Maximum displacement                           0.150000\n",
      "Number of particles                                 864  \n",
      "Box length                                    10.482966\n",
      "Density                                        0.750000\n",
      "Initial values\n",
      "E/N cut                                       -5.708403\n",
      "P cut                                         -6.134551\n",
      "E/N full                                      -6.109978\n",
      "P full                                        -6.435732\n",
      "T config                                       0.000000\n",
      "\n",
      "Run begins\n",
      "Date:                                        2018/04/29\n",
      "Time:                                          23:10:45\n",
      "CPU time:                                  16421.714334\n",
      "\n",
      "===============================================================================================================================\n",
      "          Block            Move             E/N               P             E/N               P               T            Cv/N\n",
      "                          ratio             cut             cut            full            full          config            full\n",
      "-------------------------------------------------------------------------------------------------------------------------------\n",
      "              1        0.155891       -5.611495       -4.914524       -6.013070       -5.215705        0.095303       61.035825\n",
      "              2        0.097801       -5.740351       -3.925936       -6.141926       -4.227117        0.115762      161.292616\n",
      "              3        0.066921       -5.855775       -3.334640       -6.257350       -3.635821        0.113090       50.212895\n",
      "              4        0.058819       -5.917283       -2.979012       -6.318858       -3.280193        0.110306       20.180150\n",
      "              5        0.050370       -5.961082       -2.790275       -6.362657       -3.091456        0.105083       12.492646\n"
     ]
    }
   ],
   "source": [
    "%run mc_nvt_lj"
   ]
  },
  {
   "cell_type": "markdown",
   "metadata": {},
   "source": [
    "## Question 4"
   ]
  },
  {
   "cell_type": "markdown",
   "metadata": {},
   "source": [
    "Now find the temperature at which this new system melts!"
   ]
  },
  {
   "cell_type": "code",
   "execution_count": null,
   "metadata": {},
   "outputs": [],
   "source": []
  },
  {
   "cell_type": "markdown",
   "metadata": {},
   "source": [
    "## Question 5"
   ]
  },
  {
   "cell_type": "markdown",
   "metadata": {},
   "source": [
    "How do we make the potential fit a particular type of atom? Use the parameters given in the assignment question."
   ]
  },
  {
   "cell_type": "code",
   "execution_count": null,
   "metadata": {},
   "outputs": [],
   "source": []
  }
 ],
 "metadata": {
  "kernelspec": {
   "display_name": "Python 3",
   "language": "python",
   "name": "python3"
  },
  "language_info": {
   "codemirror_mode": {
    "name": "ipython",
    "version": 3
   },
   "file_extension": ".py",
   "mimetype": "text/x-python",
   "name": "python",
   "nbconvert_exporter": "python",
   "pygments_lexer": "ipython3",
   "version": "3.5.4"
  }
 },
 "nbformat": 4,
 "nbformat_minor": 2
}
