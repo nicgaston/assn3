{
 "cells": [
  {
   "cell_type": "markdown",
   "metadata": {},
   "source": [
    "# PHYSICS 334 Assignment 3 2021"
   ]
  },
  {
   "cell_type": "markdown",
   "metadata": {},
   "source": [
    "This assignment should be handed in via upload of your python notebook, and a pdf containing numbered answers to tne questions handed out on the Assignment sheet."
   ]
  },
  {
   "cell_type": "markdown",
   "metadata": {},
   "source": [
    "In this assignment, we are going to use several python scripts that are available from the authors of the well known book, \"Computer Simulation of Liquids\" by M. P. Allen and D. Tildesley, originally published by Oxford University Press in 1987. They demonstrate many key algorithms that are foundational to simulation of periodic systems, and have been rereleased in python form for the 2nd edition of the book, which came out in August 2017."
   ]
  },
  {
   "cell_type": "markdown",
   "metadata": {},
   "source": [
    "The Python code from Allen & Tildesley is great, but it has a few quirks. One is that, since it has been adapted from Fortran, it is a bit funny about how you give it inputs. We will need to write an input file for each piece of code to read in.\n",
    "\n",
    "As you go through the cells in the notebook below, you will need to run the code (shift-return will do this). You should add markdown text (like this text!) in a cell above the code to explain any changes you have made; you should add markdown text in a cell following the code to discuss the results and answer the assignment questions."
   ]
  },
  {
   "cell_type": "markdown",
   "metadata": {},
   "source": [
    "# Question 1"
   ]
  },
  {
   "cell_type": "markdown",
   "metadata": {},
   "source": [
    "To create a physical system of atoms for your simulation, you will first work with the code 'initialize.py'.\n",
    "\n",
    "To begin with, we will simulate 'Lennard-Jones atoms', which are defined such that the energy scale of the potential describing the interaction between the atoms is normalised to 1. Later, by changing the parameters of the potential, we will be able to change our simulation to mimic a given physical system.\n",
    "\n",
    "First we write the input file that *initialize.py* will use. We want it to give us an initial configuration with both positions and velocities. (It sets up a configuration for 256 atoms by default.) "
   ]
  },
  {
   "cell_type": "code",
   "execution_count": 68,
   "metadata": {},
   "outputs": [],
   "source": [
    "with open(\"input.inp\",'w') as input_file:\n",
    "    input_file.write('{\"velocities\":true}')"
   ]
  },
  {
   "cell_type": "markdown",
   "metadata": {},
   "source": [
    "You want to run initialize.py with input \"velocities\":true, to create velocity information for each atom which reflects the temperature.  To do this we put this information in an input file 'input.inp' which the code reads. This runs the code with no 'new' input, just using the default information.  \n",
    "\n",
    "Run *initialize.py*. It will output a file called cnf.inp\n",
    "\n",
    "If you look at cnf.inp in your library you will see it contains '256' and '6.988...' on the first two lines, for the number of atoms and the box length. Then there are 256 lines containing six numbers - these are the x,y,z coordinates of each atom, followed by the x,y,z components of the velocities of each atom.  These are randomly generated to give a distribution that equates to a given temperature (by default, T = 1.0 in Lennard Jones units).\n",
    "\n",
    "So your configuration file will contain the positions and velocities of 256 atoms in a FCC lattice, with reduced density = 0.75 and reduced temperature T = 1.0, and we can use this for a MC simulation.\n"
   ]
  },
  {
   "cell_type": "code",
   "execution_count": 12,
   "metadata": {},
   "outputs": [
    {
     "name": "stdout",
     "output_type": "stream",
     "text": [
      "initialize\n",
      "Sets up initial configuration file for various simulations\n",
      "Options for molecules are \"atom\", \"linear\", \"nonlinear\", \"chain\"\n",
      "Particle mass m=1 throughout\n",
      "Periodic boundaries\n",
      "Atoms\n",
      "nc                                                    4\n",
      "n                                                   256\n",
      "Velocities option selected\n",
      "Periodic boundary conditions\n",
      "Density                                        0.750000\n",
      "Box length                                     6.988644\n",
      "Close-packed fcc lattice positions\n",
      "Temperature                                    1.000000\n",
      "Velocities at temperature, inertia             1.000000       1.000000\n",
      "Writing configuration to filename cnf.inp\n"
     ]
    }
   ],
   "source": [
    "%run initialize"
   ]
  },
  {
   "cell_type": "markdown",
   "metadata": {},
   "source": [
    "Next we need to write an input file with some parameters for *mc_nvt_lj.py*. We might start by specifying a simulation that uses 10 blocks, each of 100 steps, for an unscaled temperature (temperature = 1 unit of T)."
   ]
  },
  {
   "cell_type": "code",
   "execution_count": 78,
   "metadata": {},
   "outputs": [],
   "source": [
    "with open(\"run_input.inp\",'w') as run_file:\n",
    "    #run_file.write('{}')\n",
    "    run_file.write('{ \"nblock\":10, \"nstep\":100, \"temperature\":0.1 }')"
   ]
  },
  {
   "cell_type": "markdown",
   "metadata": {},
   "source": [
    "This version of *mc_nvt_lj.py* reads in the input file produced above. Time to run it..."
   ]
  },
  
  {
   "cell_type": "markdown",
   "metadata": {},
   "source": [
    "Looking at the output, we see several things. Each block of the simulation reports thermodynamic quantities, such as E/N, and these are averaged at the end over all blocks.  Both E/N and P are calculated first with a truncated LJ potential (cut) and an extended version (full).  You should work with the 'full' results.\n",
    "\n",
    "Now I would like you to test how the calculated energies change depending on the number of steps, and number of blocks used.  \n",
    "\n",
    "Recalculate, as above, increasing the number of blocks and number of steps systematically until you can demonstrate that the energy per atom has converged to two decimal places, in reduced units.  To do this, please plot E/N against the number of steps multiplied by the number of blocks (the total number of steps).  Does it make a difference whether you have more or fewer blocks, for a given total number of steps? Discuss your results."
   ]
  },
  {
   "cell_type": "markdown",
   "metadata": {},
   "source": [
    "A piece of python code that you can use to plot xy data is below - modify this to demonstrate the convergence of the energy that you find."
   ]
  },
  
   {
   "cell_type": "markdown",
   "metadata": {},
   "source": [
    "## Question 2"
   ]
  },
  {
   "cell_type": "markdown",
   "metadata": {},
   "source": [
    "Plot E/N vs T for ten temperatures from 0.01 to 1.0 - and discuss!"
   ]
  },
  {
   "cell_type": "markdown",
   "metadata": {},
   "source": [
    "## Question 3"
   ]
  },
  {
   "cell_type": "markdown",
   "metadata": {},
   "source": [
    "Modify the code below, as needed."
   ]
  },
  {
   "cell_type": "code",
   "execution_count": 79,
   "metadata": {},
   "outputs": [],
   "source": [
    "with open(\"input.inp\",'w') as input_file:\n",
    "    input_file.write('{\"velocities\":true,\"nc\":6}')"
   ]
  },
  {
   "cell_type": "code",
   "execution_count": 80,
   "metadata": {},
   "outputs": [
    {
     "name": "stdout",
     "output_type": "stream",
     "text": [
      "initialize\n",
      "Sets up initial configuration file for various simulations\n",
      "Options for molecules are \"atom\", \"linear\", \"nonlinear\", \"chain\"\n",
      "Particle mass m=1 throughout\n",
      "Periodic boundaries\n",
      "Atoms\n",
      "nc                                                    6\n",
      "n                                                   864\n",
      "Velocities option selected\n",
      "Periodic boundary conditions\n",
      "Density                                        0.750000\n",
      "Box length                                    10.482966\n",
      "Close-packed fcc lattice positions\n",
      "Temperature                                    1.000000\n",
      "Velocities at temperature, inertia             1.000000       1.000000\n",
      "Writing configuration to filename cnf.inp\n"
     ]
    }
   ],
   "source": [
    "%run initialize"
   ]
  },
  {
   "cell_type": "code",
   "execution_count": null,
   "metadata": {},
   "outputs": [
    {
     "name": "stdout",
     "output_type": "stream",
     "text": [
      "mc_nvt_lj\n",
      "Monte Carlo, constant-NVT ensemble\n",
      "Simulation uses cut (but not shifted) potential\n",
      "Lennard-Jones potential\n",
      "Cut (but not shifted)\n",
      "Diameter, sigma = 1\n",
      "Well depth, epsilon = 1\n",
      "Fast NumPy potential routine\n",
      "Number of blocks                                     10  \n",
      "Number of steps per block                           100  \n",
      "Specified temperature                          0.100000\n",
      "Potential cutoff distance                      2.500000\n",
      "Maximum displacement                           0.150000\n",
      "Number of particles                                 864  \n",
      "Box length                                    10.482966\n",
      "Density                                        0.750000\n",
      "Initial values\n",
      "E/N cut                                       -5.708403\n",
      "P cut                                         -6.134551\n",
      "E/N full                                      -6.109978\n",
      "P full                                        -6.435732\n",
      "T config                                       0.000000\n",
      "\n",
      "Run begins\n",
      "Date:                                        2018/04/29\n",
      "Time:                                          23:10:45\n",
      "CPU time:                                  16421.714334\n",
      "\n",
      "===============================================================================================================================\n",
      "          Block            Move             E/N               P             E/N               P               T            Cv/N\n",
      "                          ratio             cut             cut            full            full          config            full\n",
      "-------------------------------------------------------------------------------------------------------------------------------\n",
      "              1        0.155891       -5.611495       -4.914524       -6.013070       -5.215705        0.095303       61.035825\n",
      "              2        0.097801       -5.740351       -3.925936       -6.141926       -4.227117        0.115762      161.292616\n",
      "              3        0.066921       -5.855775       -3.334640       -6.257350       -3.635821        0.113090       50.212895\n",
      "              4        0.058819       -5.917283       -2.979012       -6.318858       -3.280193        0.110306       20.180150\n",
      "              5        0.050370       -5.961082       -2.790275       -6.362657       -3.091456        0.105083       12.492646\n"
     ]
    }
   ],
   "source": [
    "%run mc_nvt_lj"
   ]
  },
  {
   "cell_type": "markdown",
   "metadata": {},
   "source": [
    "## Question 4"
   ]
  },
  {
   "cell_type": "markdown",
   "metadata": {},
   "source": [
    "Now find the temperature at which this new system melts!"
   ]
  },
  {
   "cell_type": "code",
   "execution_count": null,
   "metadata": {},
   "outputs": [],
   "source": []
  },
  {
   "cell_type": "markdown",
   "metadata": {},
   "source": [
    "## Question 5"
   ]
  },
  {
   "cell_type": "markdown",
   "metadata": {},
   "source": [
    "How do we make the potential fit a particular type of atom? Use the parameters given in the assignment question."
   ]
  },
  {
   "cell_type": "code",
   "execution_count": null,
   "metadata": {},
   "outputs": [],
   "source": []
  }
 ],
 "metadata": {
  "kernelspec": {
   "display_name": "Python 3",
   "language": "python",
   "name": "python3"
  },
  "language_info": {
   "codemirror_mode": {
    "name": "ipython",
    "version": 3
   },
   "file_extension": ".py",
   "mimetype": "text/x-python",
   "name": "python",
   "nbconvert_exporter": "python",
   "pygments_lexer": "ipython3",
   "version": "3.5.4"
  }
 },
 "nbformat": 4,
 "nbformat_minor": 2
}
